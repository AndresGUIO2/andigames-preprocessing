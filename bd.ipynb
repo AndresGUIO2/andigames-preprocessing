{
 "cells": [
  {
   "cell_type": "code",
   "execution_count": 11,
   "metadata": {},
   "outputs": [],
   "source": [
    "import pandas as pd"
   ]
  },
  {
   "cell_type": "code",
   "execution_count": 12,
   "metadata": {},
   "outputs": [],
   "source": [
    "df=pd.read_csv('Games.csv')"
   ]
  },
  {
   "cell_type": "code",
   "execution_count": 13,
   "metadata": {},
   "outputs": [],
   "source": [
    "df['release'] = pd.to_datetime(df['release'], format='%m/%d/%Y').dt.strftime('%Y-%m-%d')"
   ]
  },
  {
   "cell_type": "code",
   "execution_count": 14,
   "metadata": {},
   "outputs": [
    {
     "name": "stdout",
     "output_type": "stream",
     "text": [
      "   Unnamed: 0                              game           link     release  \\\n",
      "0           0                       Pizza Tower  /app/2231450/  2023-01-26   \n",
      "1           1                   Resident Evil 4  /app/2050650/  2023-03-24   \n",
      "2           2  The Murder of Sonic the Hedgehog  /app/2324650/  2023-03-31   \n",
      "3           3                Pineapple on pizza  /app/2263010/  2023-03-28   \n",
      "4           4                        Hi-Fi RUSH  /app/1817230/  2023-01-25   \n",
      "\n",
      "   rating primary_genre                                       store_genres  \\\n",
      "0   96.39    Action (1)                             Action (1), Indie (23)   \n",
      "1   95.75    Action (1)                         Action (1), Adventure (25)   \n",
      "2   95.54    Casual (4)  Casual (4), Free to Play (37), Indie (23), Sim...   \n",
      "3   95.39    Indie (23)          Casual (4), Free to Play (37), Indie (23)   \n",
      "4   95.09    Action (1)                                         Action (1)   \n",
      "\n",
      "            publisher        developer  \\\n",
      "0       Tour De Pizza    Tour De Pizza   \n",
      "1     CAPCOM Co. Ltd.  CAPCOM Co. Ltd.   \n",
      "2                SEGA             SEGA   \n",
      "3        Majorariatto     Majorariatto   \n",
      "4  Bethesda Softworks  Tango Gameworks   \n",
      "\n",
      "                               detected_technologies  \n",
      "0                         Engine.GameMaker; SDK.FMOD  \n",
      "1             Engine.RE_Engine; SDK.AMD_GPU_Services  \n",
      "2             Engine.Unity; SDK.UnityBurst; SDK.cURL  \n",
      "3                             Engine.Unity; SDK.cURL  \n",
      "4  Engine.Unreal; SDK.Intel_OID; SDK.Intel_XeSS; ...  \n"
     ]
    }
   ],
   "source": [
    "print(df.head())"
   ]
  },
  {
   "cell_type": "code",
   "execution_count": 21,
   "metadata": {},
   "outputs": [],
   "source": [
    "df.rename(columns={'release': 'release_date'}, inplace=True)\n",
    "df.rename(columns={'game': 'title'}, inplace=True)\n",
    "df.rename(columns={'store_genres': 'genres'}, inplace=True)\n",
    "df.rename(columns={df.columns[0]: 'id'}, inplace=True)\n",
    "df.rename(columns={'link': 'url'}, inplace=True)\n",
    "df.rename(columns={'rating' : 'steam_rating'}, inplace=True)\n"
   ]
  },
  {
   "cell_type": "code",
   "execution_count": 22,
   "metadata": {},
   "outputs": [
    {
     "name": "stdout",
     "output_type": "stream",
     "text": [
      "   id                             title            url release_date  \\\n",
      "0   0                       Pizza Tower  /app/2231450/   2023-01-26   \n",
      "1   1                   Resident Evil 4  /app/2050650/   2023-03-24   \n",
      "2   2  The Murder of Sonic the Hedgehog  /app/2324650/   2023-03-31   \n",
      "3   3                Pineapple on pizza  /app/2263010/   2023-03-28   \n",
      "4   4                        Hi-Fi RUSH  /app/1817230/   2023-01-25   \n",
      "\n",
      "   steam_rating primary_genre  \\\n",
      "0         96.39    Action (1)   \n",
      "1         95.75    Action (1)   \n",
      "2         95.54    Casual (4)   \n",
      "3         95.39    Indie (23)   \n",
      "4         95.09    Action (1)   \n",
      "\n",
      "                                              genres           publisher  \\\n",
      "0                             Action (1), Indie (23)       Tour De Pizza   \n",
      "1                         Action (1), Adventure (25)     CAPCOM Co. Ltd.   \n",
      "2  Casual (4), Free to Play (37), Indie (23), Sim...                SEGA   \n",
      "3          Casual (4), Free to Play (37), Indie (23)        Majorariatto   \n",
      "4                                         Action (1)  Bethesda Softworks   \n",
      "\n",
      "         developer                              detected_technologies  \n",
      "0    Tour De Pizza                         Engine.GameMaker; SDK.FMOD  \n",
      "1  CAPCOM Co. Ltd.             Engine.RE_Engine; SDK.AMD_GPU_Services  \n",
      "2             SEGA             Engine.Unity; SDK.UnityBurst; SDK.cURL  \n",
      "3     Majorariatto                             Engine.Unity; SDK.cURL  \n",
      "4  Tango Gameworks  Engine.Unreal; SDK.Intel_OID; SDK.Intel_XeSS; ...  \n"
     ]
    }
   ],
   "source": [
    "print(df.head())"
   ]
  },
  {
   "cell_type": "code",
   "execution_count": 28,
   "metadata": {},
   "outputs": [],
   "source": [
    "df['platform_rating'] = 0"
   ]
  },
  {
   "cell_type": "code",
   "execution_count": 41,
   "metadata": {},
   "outputs": [],
   "source": [
    "import re"
   ]
  },
  {
   "cell_type": "code",
   "execution_count": 46,
   "metadata": {},
   "outputs": [],
   "source": [
    "def limpiar_cadena(texto):\n",
    "    if isinstance(texto, str):  # Verificar si el valor es una cadena\n",
    "        return re.sub(r'\\s*\\([^)]*\\)', '', texto)\n",
    "    else:\n",
    "        return texto  # O podrías retornar una cadena vacía si eso tiene más sentido\n"
   ]
  },
  {
   "cell_type": "code",
   "execution_count": 47,
   "metadata": {},
   "outputs": [],
   "source": [
    "df['primary_genre'] = df['primary_genre'].apply(limpiar_cadena)\n",
    "df['genres'] = df['genres'].apply(limpiar_cadena)\n"
   ]
  },
  {
   "cell_type": "code",
   "execution_count": 48,
   "metadata": {},
   "outputs": [
    {
     "name": "stdout",
     "output_type": "stream",
     "text": [
      "   id                             title            url release_date  \\\n",
      "0   0                       Pizza Tower  /app/2231450/   2023-01-26   \n",
      "1   1                   Resident Evil 4  /app/2050650/   2023-03-24   \n",
      "2   2  The Murder of Sonic the Hedgehog  /app/2324650/   2023-03-31   \n",
      "3   3                Pineapple on pizza  /app/2263010/   2023-03-28   \n",
      "4   4                        Hi-Fi RUSH  /app/1817230/   2023-01-25   \n",
      "\n",
      "   steam_rating primary_genre                                   genres  \\\n",
      "0         96.39        Action                            Action, Indie   \n",
      "1         95.75        Action                        Action, Adventure   \n",
      "2         95.54        Casual  Casual, Free to Play, Indie, Simulation   \n",
      "3         95.39         Indie              Casual, Free to Play, Indie   \n",
      "4         95.09        Action                                   Action   \n",
      "\n",
      "            publisher        developer  \\\n",
      "0       Tour De Pizza    Tour De Pizza   \n",
      "1     CAPCOM Co. Ltd.  CAPCOM Co. Ltd.   \n",
      "2                SEGA             SEGA   \n",
      "3        Majorariatto     Majorariatto   \n",
      "4  Bethesda Softworks  Tango Gameworks   \n",
      "\n",
      "                               detected_technologies  platform_rating  \n",
      "0                         Engine.GameMaker; SDK.FMOD                0  \n",
      "1             Engine.RE_Engine; SDK.AMD_GPU_Services                0  \n",
      "2             Engine.Unity; SDK.UnityBurst; SDK.cURL                0  \n",
      "3                             Engine.Unity; SDK.cURL                0  \n",
      "4  Engine.Unreal; SDK.Intel_OID; SDK.Intel_XeSS; ...                0  \n"
     ]
    }
   ],
   "source": [
    "print(df.head())"
   ]
  },
  {
   "cell_type": "code",
   "execution_count": 49,
   "metadata": {},
   "outputs": [],
   "source": [
    "import psycopg2"
   ]
  },
  {
   "cell_type": "code",
   "execution_count": 30,
   "metadata": {},
   "outputs": [],
   "source": [
    "conn = psycopg2.connect(\"host=localhost port=5433 dbname=VideoGames user=postgres password=DRESdres951!\")\n",
    "\n",
    "cursor= conn.cursor()"
   ]
  },
  {
   "cell_type": "code",
   "execution_count": 50,
   "metadata": {},
   "outputs": [],
   "source": [
    "for index, row in df.iterrows():\n",
    "    try:\n",
    "        cursor.execute(\n",
    "            \"INSERT INTO games (id, title, url, release_date, primary_genre, genres, steam_rating, platform_rating, publisher, detected_technologies, developer) VALUES (%s, %s, %s, %s, %s, %s, %s, %s, %s, %s, %s)\",\n",
    "            (row['id'], row['title'], row['url'], row['release_date'], row['primary_genre'], row['genres'], row['steam_rating'], row['platform_rating'], row['publisher'], row['detected_technologies'], row['developer'])\n",
    "        )\n",
    "    except Exception as e:\n",
    "        print(f\"Error: {e}\")\n",
    "        conn.rollback()\n",
    "        continue  # O puedes elegir abortar completamente\n",
    "    conn.commit()\n",
    "\n"
   ]
  }
 ],
 "metadata": {
  "kernelspec": {
   "display_name": "Python 3",
   "language": "python",
   "name": "python3"
  },
  "language_info": {
   "codemirror_mode": {
    "name": "ipython",
    "version": 3
   },
   "file_extension": ".py",
   "mimetype": "text/x-python",
   "name": "python",
   "nbconvert_exporter": "python",
   "pygments_lexer": "ipython3",
   "version": "3.10.11"
  }
 },
 "nbformat": 4,
 "nbformat_minor": 2
}
